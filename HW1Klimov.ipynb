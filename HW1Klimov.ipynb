{
 "cells": [
  {
   "cell_type": "code",
   "execution_count": null,
   "metadata": {
    "collapsed": false
   },
   "outputs": [],
   "source": [
    "#1 задача. Число 1234 записали 50 подряд, а потом полученное 200-значное число возвели в квадрат. Вывести это число.\n",
    "y = '1234' * 50\n",
    "print ((int(y) ** 2)) "
   ]
  },
  {
   "cell_type": "code",
   "execution_count": null,
   "metadata": {
    "collapsed": false
   },
   "outputs": [],
   "source": [
    "#2 задача. Посчитать 1! + 2! + 3! + 4! + ... + n! для заданного n. Решить только одним циклом \n",
    "def factorials(n):\n",
    "    factorials = 0\n",
    "    factorial = 1\n",
    "    for i in range(1, n+1):\n",
    "        factorial = factorial * i\n",
    "        factorials = factorials + factorial            \n",
    "    return factorials\n",
    "\n",
    "assert factorials(1) == 1\n",
    "assert factorials(3) == 9\n",
    "assert factorials(4) == 33"
   ]
  },
  {
   "cell_type": "code",
   "execution_count": null,
   "metadata": {
    "collapsed": false
   },
   "outputs": [],
   "source": [
    "#3 задача. Найти среднее арифметическое отрицательных элементов в списке\n",
    "def function_2(list_of_numbers):\n",
    "    if list_of_numbers == []:\n",
    "        return 0\n",
    "    sm = 0 \n",
    "    numberofnegativenums = 0\n",
    "    for num in list_of_numbers:\n",
    "        if num < 0:\n",
    "            sm += num\n",
    "            numberofnegativenums += 1\n",
    "    \n",
    "    \n",
    "    if numberofnegativenums == 0:\n",
    "        return 0\n",
    "    mean = sm / numberofnegativenums\n",
    "    return mean\n",
    "assert function_2([]) == 0\n",
    "assert function_2([0, 1, 2, 5, -1, -10, -15]) == -8.666666666666666\n",
    "assert function_2([1, -1, -3, 3]) == -2\n",
    "assert function_2([1, 1, 2, 3, 4]) == 0"
   ]
  },
  {
   "cell_type": "code",
   "execution_count": null,
   "metadata": {
    "collapsed": false
   },
   "outputs": [],
   "source": [
    "#Задача4\n",
    "def function_3(point_1, point_2):\n",
    "    distancenum = 0\n",
    "    for x,y in zip(point_1, point_2):\n",
    "        distancenum += ((y-x) ** 2)\n",
    "    return distancenum ** 0.5\n",
    "assert function_3((1, 0), (2, 0)) == 1\n",
    "assert function_3((1, 2, 3), (3, 2, 1)) == 2.8284271247461903"
   ]
  },
  {
   "cell_type": "code",
   "execution_count": null,
   "metadata": {
    "collapsed": false
   },
   "outputs": [],
   "source": [
    "#Задача5\n",
    "def function_5(matrix):\n",
    "    sort_matrix = sorted(matrix, key = sum)\n",
    "    return sort_matrix\n",
    "\n",
    "assert function_5([[5, 0, 1], [1, 1, 1], [2, 2, 0]]) == [[1, 1, 1], [2, 2, 0], [5, 0, 1]] \n",
    "assert function_5([[0, 0, 0], [1, 1, 1], [-1, -2, -3]]) == [[-1, -2, -3], [0, 0, 0], [1, 1, 1]]"
   ]
  },
  {
   "cell_type": "code",
   "execution_count": null,
   "metadata": {
    "collapsed": false
   },
   "outputs": [],
   "source": [
    "#Задача7\n",
    "def function_6(S, w):\n",
    "    x = S.find(w)\n",
    "    f = S.rfind(w)\n",
    "    if w in S:\n",
    "        if x == f:\n",
    "            return S\n",
    "        newline = S[:x+1]\n",
    "        newline2 = S[f:]\n",
    "        stri = S[x+1:f]\n",
    "        newline3 = stri[::-1]\n",
    "        return (newline+newline3+newline2)\n",
    "    else: return -1\n",
    "assert function_6('abcdefgefg', 'e') == 'abcdegfefg'\n",
    "assert function_6('abcdfg', 'e') == -1\n",
    "assert function_6('abcdefg', 'e') == 'abcdefg'"
   ]
  },
  {
   "cell_type": "code",
   "execution_count": null,
   "metadata": {
    "collapsed": false
   },
   "outputs": [],
   "source": [
    "#Задача8\n",
    "#Я сделал много циклов для удаления ненужных знаков, но можно было бы это сделать с помощью replace или регулярных выражений\n",
    "#но так как мы их не проходили, я решил их не использовать.\n",
    "def readandcount(text):\n",
    "    with open(text, 'r') as fl:\n",
    "        text = fl.read()\n",
    "        diction = {}\n",
    "#удаляем все тире\n",
    "        for i in text:\n",
    "            if i == '—':\n",
    "                n = text.find(i)\n",
    "                text = text[:n]+text[n+1:]\n",
    "#удаляем все точки\n",
    "        for i in text:\n",
    "            if i == '.':\n",
    "                n = text.find(i)\n",
    "                text = text[:n]+text[n+1:]\n",
    "#удаляем все восклицательные знаки\n",
    "        for i in text:\n",
    "            if i == '!':\n",
    "                n = text.find(i)\n",
    "                text = text[:n]+text[n+1:]\n",
    "#удаляем все запятые\n",
    "        for i in text:\n",
    "            if i == ',':\n",
    "                n = text.find(i)\n",
    "                text = text[:n]+text[n+1:]\n",
    "#удаляем все двоеточия\n",
    "        for i in text:\n",
    "            if i == ':':\n",
    "                n = text.find(i)\n",
    "                text = text[:n]+text[n+1:]\n",
    "#удаляем все точки с запятыми\n",
    "        for i in text:\n",
    "            if i == ';':\n",
    "                n = text.find(i)\n",
    "                text = text[:n]+text[n+1:]\n",
    "#удаляем все знаки вопроса\n",
    "        for i in text:\n",
    "            if i == '?':\n",
    "                n = text.find(i)\n",
    "                text = text[:n]+text[n+1:]\n",
    "        text = text.lower()\n",
    "        lsttext = text.split()\n",
    "        for word in lsttext:\n",
    "            diction.setdefault(word, 0)\n",
    "            diction[word] += 1\n",
    "        diction1 = diction.items()\n",
    "        lst = []\n",
    "        for values,key in diction1:\n",
    "            lst.append((key,values))\n",
    "        lst.sort(reverse = True)\n",
    "        for key,values in lst:\n",
    "            x = print ('Слово', values, 'встретилось в тексте', key, 'раз(а).')\n",
    "    return (x)\n",
    "readandcount('problem_8_text.txt')           "
   ]
  },
  {
   "cell_type": "code",
   "execution_count": null,
   "metadata": {
    "collapsed": true
   },
   "outputs": [],
   "source": []
  }
 ],
 "metadata": {
  "kernelspec": {
   "display_name": "Python 3",
   "language": "python",
   "name": "python3"
  },
  "language_info": {
   "codemirror_mode": {
    "name": "ipython",
    "version": 3
   },
   "file_extension": ".py",
   "mimetype": "text/x-python",
   "name": "python",
   "nbconvert_exporter": "python",
   "pygments_lexer": "ipython3",
   "version": "3.6.0"
  }
 },
 "nbformat": 4,
 "nbformat_minor": 2
}
