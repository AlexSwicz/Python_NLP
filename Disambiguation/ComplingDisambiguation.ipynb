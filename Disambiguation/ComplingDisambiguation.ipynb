{
 "cells": [
  {
   "cell_type": "markdown",
   "metadata": {},
   "source": [
    "POS taggers comparison"
   ]
  },
  {
   "cell_type": "markdown",
   "metadata": {},
   "source": [
    "I compared three taggers:  \n",
    "Pymorhy2  \n",
    "TreeTagger  \n",
    "Mystem3  \n"
   ]
  },
  {
   "cell_type": "markdown",
   "metadata": {},
   "source": [
    "Our text is some short description of Medieval Boyar Duma taken from the Wikipedia (I also lowercased it because pymorphy interprets lowercased and uppercased words differently)."
   ]
  },
  {
   "cell_type": "code",
   "execution_count": 1,
   "metadata": {},
   "outputs": [],
   "source": [
    "text = 'В состав думы Московского государства входили только бояре в древнем значении этого слова, то есть свободные землевладельцы. Затем с превращением их в служилых людей возникло разделение на бояр вообще и бояр служилых в точном смысле. Высший класс служилых именуется «боярами введёнными», то есть введёнными во дворец для постоянной помощи великому князю в делах управления.'.lower()"
   ]
  },
  {
   "cell_type": "markdown",
   "metadata": {},
   "source": [
    "Let's start with the pymorphy2. "
   ]
  },
  {
   "cell_type": "code",
   "execution_count": 2,
   "metadata": {},
   "outputs": [],
   "source": [
    "import pymorphy2\n",
    "morph = pymorphy2.MorphAnalyzer()"
   ]
  },
  {
   "cell_type": "code",
   "execution_count": 3,
   "metadata": {},
   "outputs": [],
   "source": [
    "listoftags = []\n",
    "for i in text.split():\n",
    "    listoftags.append(morph.parse(i))"
   ]
  },
  {
   "cell_type": "code",
   "execution_count": 4,
   "metadata": {},
   "outputs": [
    {
     "data": {
      "text/plain": [
       "[[Parse(word='состав', tag=OpencorporaTag('NOUN,inan,masc sing,accs'), normal_form='состав', score=0.794871, methods_stack=((<DictionaryAnalyzer>, 'состав', 33, 3),)),\n",
       "  Parse(word='состав', tag=OpencorporaTag('NOUN,inan,masc sing,nomn'), normal_form='состав', score=0.205128, methods_stack=((<DictionaryAnalyzer>, 'состав', 33, 0),))],\n",
       " [Parse(word='думы', tag=OpencorporaTag('NOUN,inan,femn sing,gent'), normal_form='дума', score=0.894736, methods_stack=((<DictionaryAnalyzer>, 'думы', 55, 1),)),\n",
       "  Parse(word='думы', tag=OpencorporaTag('NOUN,inan,femn plur,nomn'), normal_form='дума', score=0.052631, methods_stack=((<DictionaryAnalyzer>, 'думы', 55, 7),)),\n",
       "  Parse(word='думы', tag=OpencorporaTag('NOUN,inan,femn plur,accs'), normal_form='дума', score=0.052631, methods_stack=((<DictionaryAnalyzer>, 'думы', 55, 10),))],\n",
       " [Parse(word='московского', tag=OpencorporaTag('ADJF neut,sing,gent'), normal_form='московский', score=0.333333, methods_stack=((<DictionaryAnalyzer>, 'московского', 16, 15),)),\n",
       "  Parse(word='московского', tag=OpencorporaTag('ADJF masc,sing,gent'), normal_form='московский', score=0.166666, methods_stack=((<DictionaryAnalyzer>, 'московского', 16, 1),)),\n",
       "  Parse(word='московского', tag=OpencorporaTag('ADJF anim,masc,sing,accs'), normal_form='московский', score=0.166666, methods_stack=((<DictionaryAnalyzer>, 'московского', 16, 3),)),\n",
       "  Parse(word='московского', tag=OpencorporaTag('NOUN,anim,masc,Sgtm,Surn sing,gent'), normal_form='московский', score=0.166666, methods_stack=((<DictionaryAnalyzer>, 'московского', 102, 1),)),\n",
       "  Parse(word='московского', tag=OpencorporaTag('NOUN,anim,masc,Sgtm,Surn sing,accs'), normal_form='московский', score=0.166666, methods_stack=((<DictionaryAnalyzer>, 'московского', 102, 3),))]]"
      ]
     },
     "execution_count": 4,
     "metadata": {},
     "output_type": "execute_result"
    }
   ],
   "source": [
    "#Just some first several elements\n",
    "listoftags[1:4]"
   ]
  },
  {
   "cell_type": "markdown",
   "metadata": {},
   "source": [
    "So, looking at the first three elements of our tags list, we can conclude that pymorhy does not like being concrete and prefers being pretty ambiguous: it gives the word \"состав\" two different analyses with different cases and \"думы\" - three. Also the cool  thing about pymorhy2 is that it gives the scores (possibilities) of the given interpretation in the context. If it finds possibility of the interpretation equal to 1, it provides only this interpretation.  \n",
    "Pretty interesting is interpretation of 'в' as a noun, though."
   ]
  },
  {
   "cell_type": "markdown",
   "metadata": {},
   "source": [
    "Let's consider TreeTagger."
   ]
  },
  {
   "cell_type": "code",
   "execution_count": 5,
   "metadata": {},
   "outputs": [],
   "source": [
    "import pprint\n",
    "import treetaggerwrapper\n",
    "tagger = treetaggerwrapper.TreeTagger(TAGLANG='ru')"
   ]
  },
  {
   "cell_type": "code",
   "execution_count": 6,
   "metadata": {},
   "outputs": [],
   "source": [
    "tags = tagger.tag_text(text)\n",
    "tags2 = treetaggerwrapper.make_tags(tags)"
   ]
  },
  {
   "cell_type": "code",
   "execution_count": 7,
   "metadata": {},
   "outputs": [
    {
     "name": "stdout",
     "output_type": "stream",
     "text": [
      "[Tag(word='в', pos='Sp-a', lemma='в'),\n",
      " Tag(word='состав', pos='Ncmsan', lemma='состав'),\n",
      " Tag(word='думы', pos='Ncfsgn', lemma='дума'),\n",
      " Tag(word='московского', pos='Afpnsgf', lemma='московский'),\n",
      " Tag(word='государства', pos='Ncnsgn', lemma='государство'),\n",
      " Tag(word='входили', pos='Vmis-p-a-e', lemma='входить'),\n",
      " Tag(word='только', pos='Q', lemma='только'),\n",
      " Tag(word='бояре', pos='Ncmpny', lemma='боярин'),\n",
      " Tag(word='в', pos='Sp-l', lemma='в'),\n",
      " Tag(word='древнем', pos='Afpnslf', lemma='древний'),\n",
      " Tag(word='значении', pos='Ncnsln', lemma='значение'),\n",
      " Tag(word='этого', pos='P--nsga', lemma='этот'),\n",
      " Tag(word='слова', pos='Ncnsgn', lemma='слово'),\n",
      " Tag(word=',', pos=',', lemma=','),\n",
      " Tag(word='то', pos='P--nsnn', lemma='то'),\n",
      " Tag(word='есть', pos='Vmip3s-a-e', lemma='быть'),\n",
      " Tag(word='свободные', pos='Afpmpnf', lemma='свободный'),\n",
      " Tag(word='землевладельцы', pos='Ncmpny', lemma='землевладелец'),\n",
      " Tag(word='.', pos='SENT', lemma='.'),\n",
      " Tag(word='затем', pos='R', lemma='затем'),\n",
      " Tag(word='с', pos='Sp-i', lemma='с'),\n",
      " Tag(word='превращением', pos='Ncnsin', lemma='превращением'),\n",
      " Tag(word='их', pos='P-3-pan', lemma='они'),\n",
      " Tag(word='в', pos='Sp-a', lemma='в'),\n",
      " Tag(word='служилых', pos='Afpmpaf', lemma='служилый'),\n",
      " Tag(word='людей', pos='Ncmpay', lemma='человек'),\n",
      " Tag(word='возникло', pos='Vmis-sna-p', lemma='возникнуть'),\n",
      " Tag(word='разделение', pos='Ncnsnn', lemma='разделение'),\n",
      " Tag(word='на', pos='Sp-l', lemma='на'),\n",
      " Tag(word='бояр', pos='Ncmpgy', lemma='боярин'),\n",
      " Tag(word='вообще', pos='R', lemma='вообще'),\n",
      " Tag(word='и', pos='C', lemma='и'),\n",
      " Tag(word='бояр', pos='Ncmpgy', lemma='боярин'),\n",
      " Tag(word='служилых', pos='Afpmpaf', lemma='служилый'),\n",
      " Tag(word='в', pos='Sp-l', lemma='в'),\n",
      " Tag(word='точном', pos='Afpmslf', lemma='точный'),\n",
      " Tag(word='смысле', pos='Ncmsln', lemma='смысл'),\n",
      " Tag(word='.', pos='SENT', lemma='.'),\n",
      " Tag(word='высший', pos='Afpmsnf', lemma='высший'),\n",
      " Tag(word='класс', pos='Ncmsnn', lemma='класс'),\n",
      " Tag(word='служилых', pos='Afpmpaf', lemma='служилый'),\n",
      " Tag(word='именуется', pos='Vmip3s-m-e', lemma='именоваться'),\n",
      " Tag(word='«', pos='-', lemma='«'),\n",
      " Tag(word='боярами', pos='Ncmpin', lemma='бояр'),\n",
      " Tag(word='введёнными', pos='Afpmpif', lemma='введёнными'),\n",
      " Tag(word='»', pos='-', lemma='»'),\n",
      " Tag(word=',', pos=',', lemma=','),\n",
      " Tag(word='то', pos='P--nsnn', lemma='то'),\n",
      " Tag(word='есть', pos='Vmip3s-a-e', lemma='быть'),\n",
      " Tag(word='введёнными', pos='Afpmpif', lemma='введёнными'),\n",
      " Tag(word='во', pos='Sp-a', lemma='во'),\n",
      " Tag(word='дворец', pos='Ncmsan', lemma='дворец'),\n",
      " Tag(word='для', pos='Sp-g', lemma='для'),\n",
      " Tag(word='постоянной', pos='Afpfsgf', lemma='постоянный'),\n",
      " Tag(word='помощи', pos='Ncfsgn', lemma='помощь'),\n",
      " Tag(word='великому', pos='Afpmsdf', lemma='великий'),\n",
      " Tag(word='князю', pos='Ncmsdy', lemma='князь'),\n",
      " Tag(word='в', pos='Sp-l', lemma='в'),\n",
      " Tag(word='делах', pos='Ncnpln', lemma='дело'),\n",
      " Tag(word='управления', pos='Ncnsgn', lemma='управление'),\n",
      " Tag(word='.', pos='SENT', lemma='.')]\n"
     ]
    }
   ],
   "source": [
    "pprint.pprint(tags2)"
   ]
  },
  {
   "cell_type": "markdown",
   "metadata": {},
   "source": [
    "As we can see, TreeTagger gives only one interpretation, but it matches the high score results from pymorphy2 (Noun/masculine/singular/accusative for 'состав' and Noun/feminine/singular/genitive)."
   ]
  },
  {
   "cell_type": "markdown",
   "metadata": {},
   "source": [
    "Let's look at mystem."
   ]
  },
  {
   "cell_type": "code",
   "execution_count": 8,
   "metadata": {},
   "outputs": [],
   "source": [
    "from pymystem3 import Mystem\n",
    "import json\n",
    "m = Mystem()"
   ]
  },
  {
   "cell_type": "code",
   "execution_count": 9,
   "metadata": {},
   "outputs": [],
   "source": [
    "tags3 = json.dumps(m.analyze(text), ensure_ascii=False)"
   ]
  },
  {
   "cell_type": "code",
   "execution_count": 10,
   "metadata": {},
   "outputs": [
    {
     "name": "stdout",
     "output_type": "stream",
     "text": [
      "[{\"analysis\": [{\"gr\": \"PR=\", \"lex\": \"в\"}], \"text\": \"в\"}, {\"text\": \" \"}, {\"analysis\": [{\"gr\": \"S,муж,неод=(вин,ед|им,ед)\", \"lex\": \"состав\"}], \"text\": \"состав\"}, {\"text\": \" \"}, {\"analysis\": [{\"gr\": \"S,жен,неод=(вин,мн|род,ед|им,мн)\", \"lex\": \"дума\"}], \"text\": \"думы\"}, {\"text\": \" \"}, {\"analysis\": [{\"gr\": \"A=(вин,ед,полн,муж,од|род,ед,полн,муж|род,ед,полн,сред)\", \"lex\": \"московский\"}], \"text\": \"московского\"}, {\"text\": \" \"}, {\"analysis\": [{\"gr\": \"S,сред,неод=(вин,мн|род,ед|им,мн)\", \"lex\": \"государство\"}], \"text\": \"государства\"}, {\"text\": \" \"}, {\"analysis\": [{\"gr\": \"V,нп=прош,мн,изъяв,несов\", \"lex\": \"входить\"}], \"text\": \"входили\"}, {\"text\": \" \"}, {\"analysis\": [{\"gr\": \"PART=\", \"lex\": \"только\"}], \"text\": \"только\"}, {\"text\": \" \"}, {\"analysis\": [{\"gr\": \"S,муж,од=им,мн\", \"lex\": \"боярин\"}], \"text\": \"бояре\"}, {\"text\": \" \"}, {\"analysis\": [{\"gr\": \"PR=\", \"lex\": \"в\"}], \"text\": \"в\"}, {\"text\": \" \"}, {\"analysis\": [{\"gr\": \"A=(пр,ед,полн,муж|пр,ед,полн,сред)\", \"lex\": \"древний\"}], \"text\": \"древнем\"}, {\"text\": \" \"}, {\"analysis\": [{\"gr\": \"S,сред,неод=пр,ед\", \"lex\": \"значение\"}], \"text\": \"значении\"}, {\"text\": \" \"}, {\"analysis\": [{\"gr\": \"APRO=(вин,ед,муж,од|род,ед,муж|род,ед,сред)\", \"lex\": \"этот\"}], \"text\": \"этого\"}, {\"text\": \" \"}, {\"analysis\": [{\"gr\": \"S,сред,неод=(вин,мн|род,ед|им,мн)\", \"lex\": \"слово\"}], \"text\": \"слова\"}, {\"text\": \", \"}, {\"analysis\": [{\"gr\": \"CONJ=\", \"lex\": \"то\"}], \"text\": \"то\"}, {\"text\": \" \"}, {\"analysis\": [{\"gr\": \"V,нп=(непрош,ед,изъяв,3-л,несов|непрош,мн,изъяв,3-л,несов|наст,мн,изъяв,1-л,несов|наст,ед,изъяв,1-л,несов|наст,мн,изъяв,2-л,несов|наст,ед,изъяв,2-л,несов|наст,мн,изъяв,3-л,несов|наст,ед,изъяв,3-л,несов)\", \"lex\": \"быть\"}], \"text\": \"есть\"}, {\"text\": \" \"}, {\"analysis\": [{\"gr\": \"A=(вин,мн,полн,неод|им,мн,полн)\", \"lex\": \"свободный\"}], \"text\": \"свободные\"}, {\"text\": \" \"}, {\"analysis\": [{\"gr\": \"S,муж,од=им,мн\", \"lex\": \"землевладелец\"}], \"text\": \"землевладельцы\"}, {\"text\": \".\"}, {\"text\": \" \"}, {\"analysis\": [{\"gr\": \"ADV=\", \"lex\": \"затем\"}], \"text\": \"затем\"}, {\"text\": \" \"}, {\"analysis\": [{\"gr\": \"PR=\", \"lex\": \"с\"}], \"text\": \"с\"}, {\"text\": \" \"}, {\"analysis\": [{\"gr\": \"S,сред,неод=твор,ед\", \"lex\": \"превращение\"}], \"text\": \"превращением\"}, {\"text\": \" \"}, {\"analysis\": [{\"gr\": \"SPRO,мн=(вин|род)\", \"lex\": \"они\"}], \"text\": \"их\"}, {\"text\": \" \"}, {\"analysis\": [{\"gr\": \"PR=\", \"lex\": \"в\"}], \"text\": \"в\"}, {\"text\": \" \"}, {\"analysis\": [{\"gr\": \"A=(пр,мн,полн|вин,мн,полн,од|род,мн,полн)\", \"lex\": \"служилый\"}], \"text\": \"служилых\"}, {\"text\": \" \"}, {\"analysis\": [{\"gr\": \"S,муж,од=(вин,мн|род,мн)\", \"lex\": \"человек\"}], \"text\": \"людей\"}, {\"text\": \" \"}, {\"analysis\": [{\"gr\": \"V,нп=прош,ед,изъяв,сред,сов\", \"lex\": \"возникать\"}], \"text\": \"возникло\"}, {\"text\": \" \"}, {\"analysis\": [{\"gr\": \"S,сред,неод=(вин,ед|им,ед)\", \"lex\": \"разделение\"}], \"text\": \"разделение\"}, {\"text\": \" \"}, {\"analysis\": [{\"gr\": \"PR=\", \"lex\": \"на\"}], \"text\": \"на\"}, {\"text\": \" \"}, {\"analysis\": [{\"gr\": \"S,муж,од=(вин,мн|род,мн)\", \"lex\": \"боярин\"}], \"text\": \"бояр\"}, {\"text\": \" \"}, {\"analysis\": [{\"gr\": \"ADV,вводн=\", \"lex\": \"вообще\"}], \"text\": \"вообще\"}, {\"text\": \" \"}, {\"analysis\": [{\"gr\": \"CONJ=\", \"lex\": \"и\"}], \"text\": \"и\"}, {\"text\": \" \"}, {\"analysis\": [{\"gr\": \"S,муж,од=(вин,мн|род,мн)\", \"lex\": \"боярин\"}], \"text\": \"бояр\"}, {\"text\": \" \"}, {\"analysis\": [{\"gr\": \"A=(пр,мн,полн|вин,мн,полн,од|род,мн,полн)\", \"lex\": \"служилый\"}], \"text\": \"служилых\"}, {\"text\": \" \"}, {\"analysis\": [{\"gr\": \"PR=\", \"lex\": \"в\"}], \"text\": \"в\"}, {\"text\": \" \"}, {\"analysis\": [{\"gr\": \"A=(пр,ед,полн,муж|пр,ед,полн,сред)\", \"lex\": \"точный\"}], \"text\": \"точном\"}, {\"text\": \" \"}, {\"analysis\": [{\"gr\": \"S,муж,неод=пр,ед\", \"lex\": \"смысл\"}], \"text\": \"смысле\"}, {\"text\": \".\"}, {\"text\": \" \"}, {\"analysis\": [{\"gr\": \"A=(вин,ед,полн,прев,муж,неод|им,ед,полн,прев,муж)\", \"lex\": \"высокий\"}], \"text\": \"высший\"}, {\"text\": \" \"}, {\"analysis\": [{\"gr\": \"S,муж,неод=(вин,ед|им,ед)\", \"lex\": \"класс\"}], \"text\": \"класс\"}, {\"text\": \" \"}, {\"analysis\": [{\"gr\": \"A=(пр,мн,полн|вин,мн,полн,од|род,мн,полн)\", \"lex\": \"служилый\"}], \"text\": \"служилых\"}, {\"text\": \" \"}, {\"analysis\": [{\"gr\": \"V,несов,нп=непрош,ед,изъяв,3-л\", \"lex\": \"именоваться\"}], \"text\": \"именуется\"}, {\"text\": \" «\"}, {\"analysis\": [{\"gr\": \"S,муж,од=твор,мн\", \"lex\": \"боярин\"}], \"text\": \"боярами\"}, {\"text\": \" \"}, {\"analysis\": [{\"gr\": \"V=прош,твор,мн,прич,полн,сов,страд\", \"lex\": \"вводить\"}], \"text\": \"введёнными\"}, {\"text\": \"», \"}, {\"analysis\": [{\"gr\": \"CONJ=\", \"lex\": \"то\"}], \"text\": \"то\"}, {\"text\": \" \"}, {\"analysis\": [{\"gr\": \"V,несов,пе=инф\", \"lex\": \"есть\"}], \"text\": \"есть\"}, {\"text\": \" \"}, {\"analysis\": [{\"gr\": \"V=прош,твор,мн,прич,полн,сов,страд\", \"lex\": \"вводить\"}], \"text\": \"введёнными\"}, {\"text\": \" \"}, {\"analysis\": [{\"gr\": \"PR=\", \"lex\": \"во\"}], \"text\": \"во\"}, {\"text\": \" \"}, {\"analysis\": [{\"gr\": \"S,муж,неод=(вин,ед|им,ед)\", \"lex\": \"дворец\"}], \"text\": \"дворец\"}, {\"text\": \" \"}, {\"analysis\": [{\"gr\": \"PR=\", \"lex\": \"для\"}], \"text\": \"для\"}, {\"text\": \" \"}, {\"analysis\": [{\"gr\": \"A=(пр,ед,полн,жен|дат,ед,полн,жен|род,ед,полн,жен|твор,ед,полн,жен)\", \"lex\": \"постоянный\"}], \"text\": \"постоянной\"}, {\"text\": \" \"}, {\"analysis\": [{\"gr\": \"S,жен,неод=(пр,ед|вин,мн|дат,ед|род,ед|им,мн)\", \"lex\": \"помощь\"}], \"text\": \"помощи\"}, {\"text\": \" \"}, {\"analysis\": [{\"gr\": \"A=(дат,ед,полн,муж|дат,ед,полн,сред)\", \"lex\": \"великий\"}], \"text\": \"великому\"}, {\"text\": \" \"}, {\"analysis\": [{\"gr\": \"S,муж,од=дат,ед\", \"lex\": \"князь\"}], \"text\": \"князю\"}, {\"text\": \" \"}, {\"analysis\": [{\"gr\": \"PR=\", \"lex\": \"в\"}], \"text\": \"в\"}, {\"text\": \" \"}, {\"analysis\": [{\"gr\": \"S,сред,неод=пр,мн\", \"lex\": \"дело\"}], \"text\": \"делах\"}, {\"text\": \" \"}, {\"analysis\": [{\"gr\": \"S,сред,неод=(вин,мн|род,ед|им,мн)\", \"lex\": \"управление\"}], \"text\": \"управления\"}, {\"text\": \".\"}, {\"text\": \"\\n\"}]\n"
     ]
    }
   ],
   "source": [
    "print (tags3)"
   ]
  },
  {
   "cell_type": "markdown",
   "metadata": {},
   "source": [
    "Here we can see that mystem also gives several interpretations as pymorphy but without explicit probabilities which is not that useful. Also mystem interprets punctuation and spaces: two previous taggers ignore them automatically. Moreover, this tagger looks like one of the most unfriendly to the user."
   ]
  },
  {
   "cell_type": "markdown",
   "metadata": {},
   "source": [
    "I also looked over the results and tried to find differences in tagging (I took only interesting cases of differences).  \n",
    "Well, the first major difference comes with the word <b>'этого'</b> (demonstrative pronoun): for pymorphy it is NPRO (noun-pronoun) (with 0.97 score), treegagger considers it just a pronoun with any further classification and for mystem it is APRO (adjective-pronoun). If I am not mistaken, mystem gives here the most correct interpretation, but this can be due the difference in terminology.  \n",
    "The next word <b>'слова'</b> was tagged correctly by treetagger (1 correct interpretation as noun/genitive/singular) and pymystem (1 correct and 2 wrong); pymorphy somehow failed to give its variants at all.  \n",
    "Then goes <b>'то есть'</b> - compound сonjunction. Surely, these three taggers could not interpret these two words as one, sadly. But their interpretations of <b>'то'</b> and <b>'есть'</b> are pretty decent.  \n",
    "Also we get into trouble with the word <b>'затем'</b>: pymorphy and mystem give correct interpretation but treetaggers considers it R. I looked up the doсumentation, but did not find such a tag there (mystery!). \n",
    "<b>'С'</b> - not troubles at all, but there are extra interpretations by pymorphy: <b>'с'</b> can be the short form of <b>'секунд'</b>. Interesting! \n",
    "<b>'Превращением'</b> - here we can see difference in terminology (ablative vs. instrumental).  \n",
    "<b>'Их'</b> - only treetagger gives unambiguous correct interpretation, other taggers give variants.\n",
    "<b>'Служилых'</b>: pymorphy gives 3 equal score interpretations (so does mystem), treetagger gives one correct interpretation.\n",
    "<b>'Бояр'</b>: treetagger and mystem give correct interpretation (+ lemma <b>'боярин'</b>), but pymorphy provides 3 equal score interpretations, one of them with lemma <b>'бояр'</b>, not <b>'боярин'</b>.\n",
    "<b>'Введёнными'</b>: pymorphy and treetagger fail completely, mystem is a champion! It provides a correct interpretation as participle of <b>'вводить'</b>.  \n",
    "'Для': all taggers provide correct interpretation as preposition, but pymorphy provides a wonderful variant: gerund of <b>'длить'</b>.\n"
   ]
  },
  {
   "cell_type": "markdown",
   "metadata": {},
   "source": [
    "In terms of speed, pymorphy is the fastest and treetagger is the slowest tagger. In general I can tell that my sympathies are with TreeTagger for being short and accurate, but mystem looks like the most accurate tagger of these three."
   ]
  },
  {
   "cell_type": "code",
   "execution_count": null,
   "metadata": {},
   "outputs": [],
   "source": []
  }
 ],
 "metadata": {
  "kernelspec": {
   "display_name": "Python 3",
   "language": "python",
   "name": "python3"
  },
  "language_info": {
   "codemirror_mode": {
    "name": "ipython",
    "version": 3
   },
   "file_extension": ".py",
   "mimetype": "text/x-python",
   "name": "python",
   "nbconvert_exporter": "python",
   "pygments_lexer": "ipython3",
   "version": "3.5.5"
  }
 },
 "nbformat": 4,
 "nbformat_minor": 2
}
